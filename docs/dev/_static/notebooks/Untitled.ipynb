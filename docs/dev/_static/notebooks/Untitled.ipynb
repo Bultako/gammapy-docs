{
 "cells": [
  {
   "cell_type": "code",
   "execution_count": 6,
   "metadata": {},
   "outputs": [
    {
     "name": "stdout",
     "output_type": "stream",
     "text": [
      "WcsGeom\n",
      "\n",
      "\tnpix      : 800 x 600 pix\n",
      "\tcoordsys  : GAL\n",
      "\tprojection: CAR\n",
      "\tcenter    : 359.9 deg, -10.0 deg\n",
      "\twidth     : 80.0 x 60.0 deg\n",
      "\tndim      : 2\n",
      "\taxes      : \n",
      " WCS Keywords\n",
      "\n",
      "Number of WCS axes: 2\n",
      "CTYPE : 'GLON-CAR'  'GLAT-CAR'  \n",
      "CRVAL : 0.0  0.0  \n",
      "CRPIX : 400.0  400.0  \n",
      "PC1_1 PC1_2  : 1.0  0.0  \n",
      "PC2_1 PC2_2  : 0.0  1.0  \n",
      "CDELT : -0.1  0.1  \n",
      "NAXIS : 800  600\n"
     ]
    }
   ],
   "source": [
    "from gammapy.maps import WcsGeom\n",
    "geom = WcsGeom.create(skydir=(0, 0), npix=(800, 600), refpix=(400, 300), binsz=0.1, coordsys='GAL')\n",
    "print(geom, geom.wcs)"
   ]
  },
  {
   "cell_type": "code",
   "execution_count": 7,
   "metadata": {},
   "outputs": [],
   "source": [
    "from gammapy.maps import Map\n",
    "m = Map.create()"
   ]
  },
  {
   "cell_type": "code",
   "execution_count": 8,
   "metadata": {},
   "outputs": [
    {
     "data": {
      "text/plain": [
       "WcsGeom\n",
       "\n",
       "\tnpix      : 3600 x 1800 pix\n",
       "\tcoordsys  : CEL\n",
       "\tprojection: CAR\n",
       "\tcenter    : 0.0 deg, 0.0 deg\n",
       "\twidth     : 360.0 x 180.0 deg\n",
       "\tndim      : 2\n",
       "\taxes      : "
      ]
     },
     "execution_count": 8,
     "metadata": {},
     "output_type": "execute_result"
    }
   ],
   "source": [
    "m.geom"
   ]
  },
  {
   "cell_type": "code",
   "execution_count": 23,
   "metadata": {},
   "outputs": [
    {
     "data": {
      "text/plain": [
       "WcsGeom\n",
       "\n",
       "\tnpix      : 50 x 100 pix\n",
       "\tcoordsys  : CEL\n",
       "\tprojection: CAR\n",
       "\tcenter    : 177.5 deg, -85.0 deg\n",
       "\twidth     : 5.0 x 10.0 deg\n",
       "\tndim      : 2\n",
       "\taxes      : "
      ]
     },
     "execution_count": 23,
     "metadata": {},
     "output_type": "execute_result"
    }
   ],
   "source": [
    "import astropy.units as u\n",
    "from gammapy.maps import Map\n",
    "m = Map.create()\n",
    "m.make_cutout(position=(0, 0), width=(20, 10) * u.deg, mode='trim')[0].geom"
   ]
  },
  {
   "cell_type": "code",
   "execution_count": 6,
   "metadata": {},
   "outputs": [
    {
     "ename": "IndexError",
     "evalue": "too many indices for array",
     "output_type": "error",
     "traceback": [
      "\u001b[0;31m---------------------------------------------------------------------------\u001b[0m",
      "\u001b[0;31mIndexError\u001b[0m                                Traceback (most recent call last)",
      "\u001b[0;32m<ipython-input-6-edb179c64873>\u001b[0m in \u001b[0;36m<module>\u001b[0;34m()\u001b[0m\n\u001b[1;32m     13\u001b[0m )\n\u001b[1;32m     14\u001b[0m \u001b[0mmaker\u001b[0m \u001b[0;34m=\u001b[0m \u001b[0mMapMaker\u001b[0m\u001b[0;34m(\u001b[0m\u001b[0mgeom\u001b[0m\u001b[0;34m,\u001b[0m \u001b[0moffset_max\u001b[0m\u001b[0;34m=\u001b[0m\u001b[0mu\u001b[0m\u001b[0;34m.\u001b[0m\u001b[0mQuantity\u001b[0m\u001b[0;34m(\u001b[0m\u001b[0;34m'2 deg'\u001b[0m\u001b[0;34m)\u001b[0m\u001b[0;34m)\u001b[0m\u001b[0;34m\u001b[0m\u001b[0m\n\u001b[0;32m---> 15\u001b[0;31m \u001b[0mimages\u001b[0m \u001b[0;34m=\u001b[0m \u001b[0mmaker\u001b[0m\u001b[0;34m.\u001b[0m\u001b[0mrun\u001b[0m\u001b[0;34m(\u001b[0m\u001b[0mobs_list\u001b[0m\u001b[0;34m)\u001b[0m\u001b[0;34m\u001b[0m\u001b[0m\n\u001b[0m",
      "\u001b[0;32m~/work/code/gammapy/gammapy/cube/new.py\u001b[0m in \u001b[0;36mrun\u001b[0;34m(self, obs_list)\u001b[0m\n\u001b[1;32m    322\u001b[0m \u001b[0;34m\u001b[0m\u001b[0m\n\u001b[1;32m    323\u001b[0m         \u001b[0;32mfor\u001b[0m \u001b[0mobs\u001b[0m \u001b[0;32min\u001b[0m \u001b[0mProgressBar\u001b[0m\u001b[0;34m(\u001b[0m\u001b[0mobs_list\u001b[0m\u001b[0;34m)\u001b[0m\u001b[0;34m:\u001b[0m\u001b[0;34m\u001b[0m\u001b[0m\n\u001b[0;32m--> 324\u001b[0;31m             \u001b[0mself\u001b[0m\u001b[0;34m.\u001b[0m\u001b[0mprocess_obs\u001b[0m\u001b[0;34m(\u001b[0m\u001b[0mobs\u001b[0m\u001b[0;34m)\u001b[0m\u001b[0;34m\u001b[0m\u001b[0m\n\u001b[0m\u001b[1;32m    325\u001b[0m         self.maps = {\n\u001b[1;32m    326\u001b[0m             \u001b[0;34m'counts_map'\u001b[0m\u001b[0;34m:\u001b[0m \u001b[0mself\u001b[0m\u001b[0;34m.\u001b[0m\u001b[0mcounts_map\u001b[0m\u001b[0;34m,\u001b[0m\u001b[0;34m\u001b[0m\u001b[0m\n",
      "\u001b[0;32m~/work/code/gammapy/gammapy/cube/new.py\u001b[0m in \u001b[0;36mprocess_obs\u001b[0;34m(self, obs)\u001b[0m\n\u001b[1;32m    278\u001b[0m \u001b[0;34m\u001b[0m\u001b[0m\n\u001b[1;32m    279\u001b[0m         counts_obs_map = make_map_counts(\n\u001b[0;32m--> 280\u001b[0;31m             \u001b[0mobs\u001b[0m\u001b[0;34m.\u001b[0m\u001b[0mevents\u001b[0m\u001b[0;34m,\u001b[0m \u001b[0mcutout_geom\u001b[0m\u001b[0;34m,\u001b[0m \u001b[0mobs\u001b[0m\u001b[0;34m.\u001b[0m\u001b[0mpointing_radec\u001b[0m\u001b[0;34m,\u001b[0m \u001b[0mself\u001b[0m\u001b[0;34m.\u001b[0m\u001b[0moffset_max\u001b[0m\u001b[0;34m,\u001b[0m\u001b[0;34m\u001b[0m\u001b[0m\n\u001b[0m\u001b[1;32m    281\u001b[0m         )\n\u001b[1;32m    282\u001b[0m \u001b[0;34m\u001b[0m\u001b[0m\n",
      "\u001b[0;32m~/work/code/gammapy/gammapy/cube/new.py\u001b[0m in \u001b[0;36mmake_map_counts\u001b[0;34m(events, ref_geom, pointing, offset_max)\u001b[0m\n\u001b[1;32m     77\u001b[0m     \u001b[0moffset\u001b[0m \u001b[0;34m=\u001b[0m \u001b[0mmake_map_separation\u001b[0m\u001b[0;34m(\u001b[0m\u001b[0mref_geom\u001b[0m\u001b[0;34m,\u001b[0m \u001b[0mpointing\u001b[0m\u001b[0;34m)\u001b[0m\u001b[0;34m.\u001b[0m\u001b[0mquantity\u001b[0m\u001b[0;34m\u001b[0m\u001b[0m\n\u001b[1;32m     78\u001b[0m     \u001b[0moffset_mask\u001b[0m \u001b[0;34m=\u001b[0m \u001b[0moffset\u001b[0m \u001b[0;34m>=\u001b[0m \u001b[0moffset_max\u001b[0m\u001b[0;34m\u001b[0m\u001b[0m\n\u001b[0;32m---> 79\u001b[0;31m     \u001b[0mcounts_map\u001b[0m\u001b[0;34m.\u001b[0m\u001b[0mdata\u001b[0m\u001b[0;34m[\u001b[0m\u001b[0;34m:\u001b[0m\u001b[0;34m,\u001b[0m \u001b[0moffset_mask\u001b[0m\u001b[0;34m]\u001b[0m \u001b[0;34m=\u001b[0m \u001b[0;36m0\u001b[0m\u001b[0;34m\u001b[0m\u001b[0m\n\u001b[0m\u001b[1;32m     80\u001b[0m \u001b[0;34m\u001b[0m\u001b[0m\n\u001b[1;32m     81\u001b[0m     \u001b[0;32mreturn\u001b[0m \u001b[0mcounts_map\u001b[0m\u001b[0;34m\u001b[0m\u001b[0m\n",
      "\u001b[0;31mIndexError\u001b[0m: too many indices for array"
     ]
    }
   ],
   "source": [
    "import astropy.units as u\n",
    "from gammapy.maps import WcsGeom\n",
    "from gammapy.cube import MapMaker\n",
    "from gammapy.data import DataStore\n",
    "data_store = DataStore.from_dir('$GAMMAPY_EXTRA/datasets/cta-1dc/index/gps/')\n",
    "obs_id = [110380, 111140, 111159]\n",
    "obs_list = data_store.obs_list(obs_id)\n",
    "geom = WcsGeom.create(\n",
    "    skydir=(0, 0),\n",
    "    npix=(800, 600),\n",
    "    binsz=0.02,\n",
    "    coordsys='GAL',\n",
    ")\n",
    "maker = MapMaker(geom, offset_max=u.Quantity('2 deg'))\n",
    "images = maker.run(obs_list)"
   ]
  },
  {
   "cell_type": "code",
   "execution_count": 23,
   "metadata": {},
   "outputs": [
    {
     "name": "stdout",
     "output_type": "stream",
     "text": [
      "bool\n"
     ]
    },
    {
     "data": {
      "image/png": "[encoded data removed]",
      "text/plain": [
       "<Figure size 432x288 with 2 Axes>"
      ]
     },
     "metadata": {},
     "output_type": "display_data"
    }
   ],
   "source": [
    "\"\"\"Example how to make an exclusion mask for multiple regions\"\"\"\n",
    "from astropy.coordinates import SkyCoord, Angle\n",
    "from regions import CircleSkyRegion\n",
    "from gammapy.maps import Map\n",
    "\n",
    "regions = [\n",
    "    CircleSkyRegion(center=SkyCoord(0, 0, unit='deg'), radius=Angle('0.2 deg')),\n",
    "    CircleSkyRegion(center=SkyCoord(0, 0.5, unit='deg'), radius=Angle('0.3 deg')),\n",
    "    CircleSkyRegion(center=SkyCoord(1.0, 0, unit='deg'), radius=Angle('0.4 deg')),\n",
    "]\n",
    "\n",
    "# Make an exclusion map, initially an empty map (zero filled)\n",
    "m = Map.create(npix=(300, 200), binsz=0.01, dtype=bool)\n",
    "\n",
    "# For each region, make a mask, then OR it with the total mask\n",
    "for region in regions:\n",
    "    m.data += m.geom.get_region_mask_array(region)\n",
    "\n",
    "print(m.data.dtype)\n",
    "\n",
    "import matplotlib.pyplot as plt\n",
    "m.plot(add_cbar=True);\n",
    "plt.savefig('exclusion.png')"
   ]
  },
  {
   "cell_type": "code",
   "execution_count": null,
   "metadata": {},
   "outputs": [],
   "source": []
  }
 ],
 "metadata": {
  "kernelspec": {
   "display_name": "Python 3",
   "language": "python",
   "name": "python3"
  },
  "language_info": {
   "codemirror_mode": {
    "name": "ipython",
    "version": 3
   },
   "file_extension": ".py",
   "mimetype": "text/x-python",
   "name": "python",
   "nbconvert_exporter": "python",
   "pygments_lexer": "ipython3",
   "version": "3.6.0"
  }
 },
 "nbformat": 4,
 "nbformat_minor": 2
}
