{
 "cells": [
  {
   "cell_type": "markdown",
   "metadata": {},
   "source": [
    "# 3D analysis\n",
    "\n",
    "This tutorial shows how to run a 3D map-based analysis (two spatial and one energy axis).\n",
    "\n",
    "The example data is three observations of the Galactic center region with CTA.\n",
    "\n",
    "Warning: this is work in progress, several missing pieces: background, PSF, diffuse and point source models, model serialisation.\n",
    "\n",
    "We aim to have a first usable version ready and documented here for the Gammapy v0.8 release on May 7, 208."
   ]
  },
  {
   "cell_type": "markdown",
   "metadata": {},
   "source": [
    "## Imports and versions"
   ]
  },
  {
   "cell_type": "code",
   "execution_count": null,
   "metadata": {},
   "outputs": [],
   "source": [
    "%matplotlib inline\n",
    "import matplotlib.pyplot as plt"
   ]
  },
  {
   "cell_type": "code",
   "execution_count": null,
   "metadata": {},
   "outputs": [],
   "source": [
    "import numpy as np\n",
    "from numpy.testing import assert_allclose\n",
    "import astropy.units as u\n",
    "from astropy.coordinates import SkyCoord\n",
    "from gammapy.extern.pathlib import Path\n",
    "from gammapy.data import DataStore\n",
    "from gammapy.maps import WcsGeom, MapAxis\n",
    "from gammapy.cube import MapMaker, PSFKernel"
   ]
  },
  {
   "cell_type": "code",
   "execution_count": null,
   "metadata": {},
   "outputs": [],
   "source": [
    "!gammapy info --no-envvar --no-dependencies --no-system"
   ]
  },
  {
   "cell_type": "markdown",
   "metadata": {},
   "source": [
    "## Setup"
   ]
  },
  {
   "cell_type": "code",
   "execution_count": null,
   "metadata": {},
   "outputs": [],
   "source": [
    "# Define which data to use\n",
    "data_store = DataStore.from_dir(\n",
    "    '$GAMMAPY_EXTRA/datasets/cta-1dc/index/gps/'\n",
    ")\n",
    "obs_ids = [110380, 111140, 111159]\n",
    "# obs_ids = [110380]"
   ]
  },
  {
   "cell_type": "code",
   "execution_count": null,
   "metadata": {},
   "outputs": [],
   "source": [
    "# Define map geometry (spatial and energy binning)\n",
    "axis = MapAxis.from_edges(\n",
    "    np.logspace(-1., 1., 10), unit='TeV',\n",
    ")\n",
    "geom = WcsGeom.create(\n",
    "    skydir=(0, 0), binsz=0.02, width=(20, 15),\n",
    "    coordsys='GAL', proj='CAR',\n",
    "    axes=[axis],\n",
    ")"
   ]
  },
  {
   "cell_type": "code",
   "execution_count": null,
   "metadata": {},
   "outputs": [],
   "source": [
    "# We will write some files; let's put them in this path\n",
    "out_path = Path('analysis_3d')\n",
    "out_path.mkdir(exist_ok=True)"
   ]
  },
  {
   "cell_type": "markdown",
   "metadata": {},
   "source": [
    "## Make maps"
   ]
  },
  {
   "cell_type": "code",
   "execution_count": null,
   "metadata": {},
   "outputs": [],
   "source": [
    "%%time\n",
    "maker = MapMaker(geom, 4. * u.deg)\n",
    "\n",
    "for obs_id in obs_ids:\n",
    "    print('processing:', obs_id)\n",
    "    obs = data_store.obs(obs_id)\n",
    "    maker.process_obs(obs)"
   ]
  },
  {
   "cell_type": "code",
   "execution_count": null,
   "metadata": {},
   "outputs": [],
   "source": [
    "count_map_2d = maker.count_map.sum_over_axes()\n",
    "count_map_2d.plot()"
   ]
  },
  {
   "cell_type": "code",
   "execution_count": null,
   "metadata": {},
   "outputs": [],
   "source": [
    "maker.count_map.write(str(out_path / 'counts.fits'),overwrite=True)\n",
    "maker.background_map.write(str(out_path / 'background.fits'),overwrite=True)\n",
    "maker.exposure_map.write(str(out_path / 'exposure.fits'),overwrite=True)"
   ]
  },
  {
   "cell_type": "markdown",
   "metadata": {},
   "source": [
    "## Compute PSF kernel\n",
    " For the moment we rely on the ObservationList.make_mean_psf() method."
   ]
  },
  {
   "cell_type": "code",
   "execution_count": null,
   "metadata": {},
   "outputs": [],
   "source": [
    "obs_list = data_store.obs_list(obs_ids)\n",
    "\n",
    "table_psf = obs_list.make_mean_psf(SkyCoord(0.,0.,unit='deg',frame='galactic'))\n",
    "\n",
    "psf_kernel = PSFKernel.from_table_psf(table_psf, maker.exposure_map.geom, max_radius=1*u.deg)"
   ]
  },
  {
   "cell_type": "markdown",
   "metadata": {},
   "source": [
    "## Model fit\n",
    "\n",
    "TODO: add model fit or other kind of analysis here.\n",
    "For now, see the `simulate_3d` notebook."
   ]
  },
  {
   "cell_type": "code",
   "execution_count": null,
   "metadata": {},
   "outputs": [],
   "source": []
  }
 ],
 "metadata": {
  "kernelspec": {
   "display_name": "Python 3",
   "language": "python",
   "name": "python3"
  },
  "language_info": {
   "codemirror_mode": {
    "name": "ipython",
    "version": 3
   },
   "file_extension": ".py",
   "mimetype": "text/x-python",
   "name": "python",
   "nbconvert_exporter": "python",
   "pygments_lexer": "ipython3",
   "version": "3.6.0"
  }
 },
 "nbformat": 4,
 "nbformat_minor": 2
}
