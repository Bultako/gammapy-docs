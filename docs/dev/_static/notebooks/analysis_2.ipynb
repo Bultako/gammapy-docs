{
 "cells": [
  {
   "cell_type": "markdown",
   "metadata": {},
   "source": [
    "# Second analysis\n",
    "\n",
    "**TODO: write this tutorial. Suggest to limit scope to data reduction, showing how to produce and store datasets.**\n",
    "\n",
    "This should be a 10-15 min read tutorial, where we re-do the analysis from `analysis1.ipynb`, but using the lower-level API (Python classes) instead of YAML config.\n",
    "\n",
    "We could either just show the exact same analysis again, explaining in more detail what `Analysis` does under the hood.\n",
    "Or we could go a bit further, explaining e.g. how to do something custom that isn't possibly with `Analysis`, e.g. some complex observation selection or grouping, or complex background modeling.\n",
    "\n",
    "Not that this should be short, and at the end link to `overview.ipynb` and other analysis tutorials."
   ]
  },
  {
   "cell_type": "code",
   "execution_count": null,
   "metadata": {},
   "outputs": [],
   "source": []
  }
 ],
 "metadata": {
  "kernelspec": {
   "display_name": "Python 3",
   "language": "python",
   "name": "python3"
  },
  "language_info": {
   "codemirror_mode": {
    "name": "ipython",
    "version": 3
   },
   "file_extension": ".py",
   "mimetype": "text/x-python",
   "name": "python",
   "nbconvert_exporter": "python",
   "pygments_lexer": "ipython3",
   "version": "3.7.0"
  }
 },
 "nbformat": 4,
 "nbformat_minor": 4
}
