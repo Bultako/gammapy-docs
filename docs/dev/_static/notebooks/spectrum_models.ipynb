{
 "cells": [
  {
   "cell_type": "markdown",
   "metadata": {},
   "source": [
    "# Spectral models in Gammapy"
   ]
  },
  {
   "cell_type": "markdown",
   "metadata": {},
   "source": [
    "## Introduction\n",
    "\n",
    "This notebook explains how to use the functions and classes in [gammapy.spectrum.models](http://docs.gammapy.org/dev/spectrum/#module-gammapy.spectrum.models) in order to work with spectral models.\n",
    "\n",
    "The following clases will be used:\n",
    "\n",
    "* [gammapy.spectrum.models.PowerLaw](..\/..\/api/gammapy.spectrum.models.PowerLaw.html)\n",
    "* [gammapy.utils.modelling.Parameter](..\/..\/api/gammapy.utils.modeling.Parameter.html)\n",
    "* [gammapy.utils.modelling.ParameterList](..\/..\/api/gammapy.utils.modeling.ParameterList.html)\n",
    "* [gammapy.spectrum.models.SpectralModel](..\/..\/api/gammapy.spectrum.models.SpectralModel.html)"
   ]
  },
  {
   "cell_type": "markdown",
   "metadata": {},
   "source": [
    "## Setup\n",
    "\n",
    "Same procedure as in every script ..."
   ]
  },
  {
   "cell_type": "code",
   "execution_count": 1,
   "metadata": {},
   "outputs": [],
   "source": [
    "%matplotlib inline\n",
    "import matplotlib.pyplot as plt"
   ]
  },
  {
   "cell_type": "code",
   "execution_count": 2,
   "metadata": {},
   "outputs": [],
   "source": [
    "import numpy as np\n",
    "import astropy.units as u\n",
    "from gammapy.spectrum import models\n",
    "from gammapy.utils.modeling import Parameter, Parameters"
   ]
  },
  {
   "cell_type": "markdown",
   "metadata": {},
   "source": [
    "## Create a model\n",
    "\n",
    "To create a spectral model, instantiate an object of the spectral model class you're interested in."
   ]
  },
  {
   "cell_type": "code",
   "execution_count": 3,
   "metadata": {},
   "outputs": [
    {
     "name": "stdout",
     "output_type": "stream",
     "text": [
      "PowerLaw\n",
      "\n",
      "Parameters: \n",
      "\n",
      "\t   name     value   error       unit         min    max\n",
      "\t--------- --------- ----- --------------- --------- ---\n",
      "\t    index 2.000e+00   nan                       nan nan\n",
      "\tamplitude 1.000e-12   nan 1 / (cm2 s TeV)       nan nan\n",
      "\treference 1.000e+00   nan             TeV 0.000e+00 nan\n"
     ]
    }
   ],
   "source": [
    "pwl = models.PowerLaw()\n",
    "print(pwl)"
   ]
  },
  {
   "cell_type": "markdown",
   "metadata": {},
   "source": [
    "This will use default values for the model parameters, which is rarely what you want.\n",
    "\n",
    "Usually you will want to specify the parameters on object creation.\n",
    "One way to do this is to pass `astropy.utils.Quantity` objects like this:"
   ]
  },
  {
   "cell_type": "code",
   "execution_count": 4,
   "metadata": {},
   "outputs": [
    {
     "name": "stdout",
     "output_type": "stream",
     "text": [
      "PowerLaw\n",
      "\n",
      "Parameters: \n",
      "\n",
      "\t   name     value   error       unit         min    max\n",
      "\t--------- --------- ----- --------------- --------- ---\n",
      "\t    index 2.300e+00   nan                       nan nan\n",
      "\tamplitude 1.000e-12   nan 1 / (cm2 s TeV)       nan nan\n",
      "\treference 1.000e+00   nan             TeV 0.000e+00 nan\n"
     ]
    }
   ],
   "source": [
    "pwl = models.PowerLaw(\n",
    "    index=2.3,\n",
    "    amplitude=1e-12 * u.Unit('cm-2 s-1 TeV-1'),\n",
    "    reference=1 * u.TeV,\n",
    ")\n",
    "print(pwl)"
   ]
  },
  {
   "cell_type": "markdown",
   "metadata": {},
   "source": [
    "As you see, some of the parameters have default ``min`` and ``values`` as well as a ``frozen`` flag. This is only relevant in the context of spectral fitting and thus covered in [spectrum_analysis.ipynb](https://github.com/gammapy/gammapy-extra/blob/master/notebooks/spectrum_analysis.ipynb). Also, the parameter errors are not set. This will be covered later in this tutorial."
   ]
  },
  {
   "cell_type": "markdown",
   "metadata": {},
   "source": [
    "## Get and set model parameters\n",
    "\n",
    "The model parameters are stored as ``ParameterList`` on the spectal model. Each model parameter is ``Parameter`` instance. It has a ``value`` and a ``unit`` attribute, as well as a ``quantity`` property for convenience."
   ]
  },
  {
   "cell_type": "code",
   "execution_count": 5,
   "metadata": {},
   "outputs": [
    {
     "name": "stdout",
     "output_type": "stream",
     "text": [
      "Parameters\n",
      "Parameter(name='index', value=2.3, factor=2.3, scale=1, unit='', min=nan, max=nan, frozen=False)\n",
      "Parameter(name='amplitude', value=1e-12, factor=1e-12, scale=1, unit='cm-2 s-1 TeV-1', min=nan, max=nan, frozen=False)\n",
      "Parameter(name='reference', value=1.0, factor=1.0, scale=1, unit='TeV', min=0.0, max=nan, frozen=True)\n",
      "\n",
      "Covariance: \n",
      "None\n",
      "Parameter(name='index', value=2.3, factor=2.3, scale=1, unit='', min=nan, max=nan, frozen=False)\n",
      "Parameter(name='index', value=2.6, factor=2.6, scale=1, unit='', min=nan, max=nan, frozen=False)\n",
      "Parameter(name='amplitude', value=1e-12, factor=1e-12, scale=1, unit='cm-2 s-1 TeV-1', min=nan, max=nan, frozen=False)\n",
      "Parameter(name='amplitude', value=2e-12, factor=2e-12, scale=1, unit='m-2 s-1 TeV-1', min=nan, max=nan, frozen=False)\n"
     ]
    }
   ],
   "source": [
    "print(pwl.parameters)\n",
    "\n",
    "print(pwl.parameters['index'])\n",
    "pwl.parameters['index'].value = 2.6\n",
    "print(pwl.parameters['index'])\n",
    "\n",
    "print(pwl.parameters['amplitude'])\n",
    "pwl.parameters['amplitude'].quantity = 2e-12 * u.Unit('m-2 TeV-1 s-1')\n",
    "print(pwl.parameters['amplitude'])"
   ]
  },
  {
   "cell_type": "markdown",
   "metadata": {},
   "source": [
    "## List available models\n",
    "\n",
    "All spectral models in gammapy are subclasses of ``SpectralModel``. The list of available models is shown below."
   ]
  },
  {
   "cell_type": "code",
   "execution_count": 6,
   "metadata": {},
   "outputs": [
    {
     "data": {
      "text/plain": [
       "[gammapy.spectrum.models.ConstantModel,\n",
       " gammapy.spectrum.models.CompoundSpectralModel,\n",
       " gammapy.spectrum.models.PowerLaw,\n",
       " gammapy.spectrum.models.PowerLaw2,\n",
       " gammapy.spectrum.models.ExponentialCutoffPowerLaw,\n",
       " gammapy.spectrum.models.ExponentialCutoffPowerLaw3FGL,\n",
       " gammapy.spectrum.models.PLSuperExpCutoff3FGL,\n",
       " gammapy.spectrum.models.LogParabola,\n",
       " gammapy.spectrum.models.TableModel,\n",
       " gammapy.spectrum.models.AbsorbedSpectralModel,\n",
       " gammapy.spectrum.crab.MeyerCrabModel]"
      ]
     },
     "execution_count": 6,
     "metadata": {},
     "output_type": "execute_result"
    }
   ],
   "source": [
    "models.SpectralModel.__subclasses__()"
   ]
  },
  {
   "cell_type": "markdown",
   "metadata": {},
   "source": [
    "## Plotting\n",
    "\n",
    "In order to plot a model you can use the ``plot`` function. It expects an energy range as argument. You can also chose flux and energy units as well as an energy power for the plot"
   ]
  },
  {
   "cell_type": "code",
   "execution_count": 7,
   "metadata": {},
   "outputs": [
    {
     "data": {
      "text/plain": [
       "<matplotlib.axes._subplots.AxesSubplot at 0x7f69ada44cf8>"
      ]
     },
     "execution_count": 7,
     "metadata": {},
     "output_type": "execute_result"
    },
    {
     "data": {
      "image/png": "[encoded data removed]",
      "text/plain": [
       "<matplotlib.figure.Figure at 0x7f69ada44320>"
      ]
     },
     "metadata": {},
     "output_type": "display_data"
    }
   ],
   "source": [
    "energy_range = [0.1, 10] * u.TeV\n",
    "pwl.plot(energy_range, energy_power=2, energy_unit='GeV')"
   ]
  },
  {
   "cell_type": "markdown",
   "metadata": {},
   "source": [
    "## Parameter errors\n",
    "\n",
    "Parameters are stored internally as covariance matrix. There are, however, convenience methods to set individual parameter errors on ``ParameterList``."
   ]
  },
  {
   "cell_type": "code",
   "execution_count": 8,
   "metadata": {},
   "outputs": [
    {
     "name": "stdout",
     "output_type": "stream",
     "text": [
      "PowerLaw\n",
      "\n",
      "Parameters: \n",
      "\n",
      "\t   name     value     error        unit         min    max\n",
      "\t--------- --------- --------- -------------- --------- ---\n",
      "\t    index 2.600e+00 2.000e-01                      nan nan\n",
      "\tamplitude 2.000e-12 2.000e-13 1 / (m2 s TeV)       nan nan\n",
      "\treference 1.000e+00 0.000e+00            TeV 0.000e+00 nan\n",
      "\n",
      "Covariance: \n",
      "\n",
      "\t   name          index        amplitude reference\n",
      "\t--------- ------------------- --------- ---------\n",
      "\t    index 0.04000000000000001       0.0       0.0\n",
      "\tamplitude                 0.0     4e-26       0.0\n",
      "\treference                 0.0       0.0       0.0\n"
     ]
    }
   ],
   "source": [
    "errors = dict(\n",
    "    index=0.2,\n",
    "    amplitude=0.1 * pwl.parameters['amplitude'].quantity\n",
    ")\n",
    "pwl.parameters.set_parameter_errors(errors)\n",
    "print(pwl)"
   ]
  },
  {
   "cell_type": "markdown",
   "metadata": {},
   "source": [
    "You can access the parameter errors like this"
   ]
  },
  {
   "cell_type": "code",
   "execution_count": 9,
   "metadata": {},
   "outputs": [
    {
     "name": "stdout",
     "output_type": "stream",
     "text": [
      "[[4.e-02 0.e+00 0.e+00]\n",
      " [0.e+00 4.e-26 0.e+00]\n",
      " [0.e+00 0.e+00 0.e+00]]\n",
      "0.2\n"
     ]
    }
   ],
   "source": [
    "print(pwl.parameters.covariance)\n",
    "print(pwl.parameters.error('index'))"
   ]
  },
  {
   "cell_type": "markdown",
   "metadata": {},
   "source": [
    "You can plot the butterfly using the ``plot_error`` method."
   ]
  },
  {
   "cell_type": "code",
   "execution_count": 10,
   "metadata": {},
   "outputs": [
    {
     "data": {
      "text/plain": [
       "<matplotlib.axes._subplots.AxesSubplot at 0x7f69acb977f0>"
      ]
     },
     "execution_count": 10,
     "metadata": {},
     "output_type": "execute_result"
    },
    {
     "data": {
      "image/png": "[encoded data removed]",
      "text/plain": [
       "<matplotlib.figure.Figure at 0x7f69acc037f0>"
      ]
     },
     "metadata": {},
     "output_type": "display_data"
    }
   ],
   "source": [
    "ax = pwl.plot_error(energy_range, color='blue', alpha=0.2)\n",
    "pwl.plot(energy_range, ax=ax, color='blue')"
   ]
  },
  {
   "cell_type": "markdown",
   "metadata": {},
   "source": [
    "## Integral fluxes\n",
    "\n",
    "You've probably asked yourself already, if it's possible to integrated models. Yes, it is. Where analytical solutions are available, these are used by default. Otherwise, a numerical integration is performed."
   ]
  },
  {
   "cell_type": "code",
   "execution_count": 11,
   "metadata": {},
   "outputs": [
    {
     "name": "stdout",
     "output_type": "stream",
     "text": [
      "1.2186014196061302e-12 1 / (m2 s)\n"
     ]
    }
   ],
   "source": [
    "integral = pwl.integral(emin=1 * u.TeV, emax= 10*u.TeV)\n",
    "print(integral)"
   ]
  },
  {
   "cell_type": "markdown",
   "metadata": {},
   "source": [
    "## User-defined model\n",
    "\n",
    "Now we'll see how you can define a custom model. To do that you need to subclass ``SpectralModel``. All ``SpectralModel`` subclasses need to have an ``__init__`` function, which sets up the ``ParameterList`` of the model and a ``static`` function called ``evaluate`` where the mathematical expression for the model is defined.\n",
    "\n",
    "As an example we will use a PowerLaw plus a Gaussian (with fixed width)."
   ]
  },
  {
   "cell_type": "code",
   "execution_count": 12,
   "metadata": {},
   "outputs": [],
   "source": [
    "class UserModel(models.SpectralModel):\n",
    "    def __init__(self, index, amplitude, reference, mean, width):\n",
    "        self.parameters = Parameters([\n",
    "                Parameter('index', index, min=0),\n",
    "                Parameter('amplitude', amplitude, min=0),\n",
    "                Parameter('reference', reference, frozen=True),\n",
    "                Parameter('mean', mean, min=0),\n",
    "                Parameter('width', width, min=0, frozen=True)\n",
    "            ])\n",
    "    @staticmethod\n",
    "    def evaluate(energy, index, amplitude, reference, mean, width):\n",
    "        pwl = models.PowerLaw.evaluate(energy=energy, index=index, amplitude=amplitude, reference=reference)\n",
    "        gauss = amplitude * np.exp(-1 *(energy - mean) ** 2/( 2 * width ** 2))\n",
    "        return pwl + gauss"
   ]
  },
  {
   "cell_type": "code",
   "execution_count": 13,
   "metadata": {},
   "outputs": [
    {
     "name": "stdout",
     "output_type": "stream",
     "text": [
      "UserModel\n",
      "\n",
      "Parameters: \n",
      "\n",
      "\t   name     value   error       unit         min    max\n",
      "\t--------- --------- ----- --------------- --------- ---\n",
      "\t    index 2.000e+00   nan                 0.000e+00 nan\n",
      "\tamplitude 1.000e-12   nan 1 / (cm2 s TeV) 0.000e+00 nan\n",
      "\treference 1.000e+00   nan             TeV       nan nan\n",
      "\t     mean 5.000e+00   nan             TeV 0.000e+00 nan\n",
      "\t    width 2.000e-01   nan             TeV 0.000e+00 nan\n"
     ]
    }
   ],
   "source": [
    "model = UserModel(\n",
    "    index=2,\n",
    "    amplitude=1e-12 * u.Unit('cm-2 s-1 TeV-1'),\n",
    "    reference=1 * u.TeV,\n",
    "    mean=5 * u.TeV,\n",
    "    width=0.2 * u.TeV,\n",
    ")\n",
    "print(model)"
   ]
  },
  {
   "cell_type": "code",
   "execution_count": 14,
   "metadata": {},
   "outputs": [
    {
     "data": {
      "text/plain": [
       "<matplotlib.axes._subplots.AxesSubplot at 0x7f69accd06a0>"
      ]
     },
     "execution_count": 14,
     "metadata": {},
     "output_type": "execute_result"
    },
    {
     "data": {
      "image/png": "[encoded data removed]",
      "text/plain": [
       "<matplotlib.figure.Figure at 0x7f69ac99cc50>"
      ]
     },
     "metadata": {},
     "output_type": "display_data"
    }
   ],
   "source": [
    "energy_range = [1, 10] * u.TeV\n",
    "\n",
    "fig, ax = plt.subplots(1)\n",
    "model.plot(ax=ax, energy_range=energy_range)"
   ]
  },
  {
   "cell_type": "markdown",
   "metadata": {},
   "source": [
    "## What's next?\n",
    "\n",
    "In this tutorial we learnd how to work with spectral models. Go to [gammapy.spectrum](..\/..\/spectrum/index.html) to see what else you can do with gammapy.spectrum."
   ]
  }
 ],
 "metadata": {
  "kernelspec": {
   "display_name": "Python 3",
   "language": "python",
   "name": "python3"
  },
  "language_info": {
   "codemirror_mode": {
    "name": "ipython",
    "version": 3
   },
   "file_extension": ".py",
   "mimetype": "text/x-python",
   "name": "python",
   "nbconvert_exporter": "python",
   "pygments_lexer": "ipython3",
   "version": "3.6.0"
  }
 },
 "nbformat": 4,
 "nbformat_minor": 2
}
