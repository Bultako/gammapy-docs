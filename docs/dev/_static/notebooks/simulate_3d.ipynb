{
 "cells": [
  {
   "cell_type": "markdown",
   "metadata": {},
   "source": [
    "# 3D simulation and fitting\n",
    "\n",
    "This tutorial shows how to do a 3D map-based simulation and fit.\n",
    "\n",
    "For a tutorial on how to do a 3D map analyse of existing data, see the `analysis_3d` tutorial.\n",
    "\n",
    "This can be useful to do a performance / sensitivity study, or to evaluate the capabilities of Gammapy or a given analysis method.\n",
    "\n",
    "In Gammapy we currently don't have an event sampler, i.e. unbinned analysis as in ctools is not available. Note that other science tools, e.g. Sherpa for Chandra, also just do binned simulations and analysis like we do here.\n",
    "\n",
    "Warning: this is work in progress, several missing pieces: background, PSF, diffuse and point source models, model serialisation.\n",
    "\n",
    "We aim to have a first usable version ready and documented here for the Gammapy v0.8 release on May 7, 2018."
   ]
  },
  {
   "cell_type": "markdown",
   "metadata": {},
   "source": [
    "## Imports and versions"
   ]
  },
  {
   "cell_type": "code",
   "execution_count": 1,
   "metadata": {
    "collapsed": true
   },
   "outputs": [],
   "source": [
    "%matplotlib inline\n",
    "import matplotlib.pyplot as plt"
   ]
  },
  {
   "cell_type": "code",
   "execution_count": 2,
   "metadata": {
    "collapsed": false
   },
   "outputs": [],
   "source": [
    "import numpy as np\n",
    "import astropy.units as u\n",
    "import tempfile\n",
    "from astropy.coordinates import SkyCoord, Angle\n",
    "from gammapy.irf import EffectiveAreaTable2D, EnergyDispersion2D, EnergyDependentMultiGaussPSF, Background3D\n",
    "from gammapy.maps import WcsGeom, MapAxis, WcsNDMap, Map\n",
    "from gammapy.spectrum.models import PowerLaw\n",
    "from gammapy.image.models import SkyGaussian\n",
    "from gammapy.utils.random import get_random_state\n",
    "from gammapy.cube import (\n",
    "    make_map_exposure_true_energy,\n",
    "    SkyModel,\n",
    "    MapFit,\n",
    "    MapEvaluator,\n",
    "    SourceLibrary,\n",
    "    PSFKernel,\n",
    ")"
   ]
  },
  {
   "cell_type": "code",
   "execution_count": 3,
   "metadata": {
    "collapsed": false
   },
   "outputs": [
    {
     "name": "stdout",
     "output_type": "stream",
     "text": [
      "\r\n",
      "Gammapy package:\r\n",
      "\r\n",
      "\tpath                   : /home/puerck/anaconda3/lib/python3.6/site-packages/gammapy-0.8.dev6343-py3.6-linux-x86_64.egg/gammapy \r\n",
      "\tversion                : 0.8.dev6343 \r\n",
      "\tgithash                : ec192639553e6705fb2a5ac1cded20568dea0e8a \r\n",
      "\r\n"
     ]
    }
   ],
   "source": [
    "!gammapy info --no-envvar --no-dependencies --no-system"
   ]
  },
  {
   "cell_type": "markdown",
   "metadata": {},
   "source": [
    "## Simulate"
   ]
  },
  {
   "cell_type": "code",
   "execution_count": 4,
   "metadata": {
    "collapsed": false
   },
   "outputs": [],
   "source": [
    "# Load CTA IRFs\n",
    "\n",
    "def get_irfs():\n",
    "    filename = '$GAMMAPY_EXTRA/datasets/cta-1dc/caldb/data/cta//1dc/bcf/South_z20_50h/irf_file.fits'\n",
    "    psf = EnergyDependentMultiGaussPSF.read(filename, hdu='POINT SPREAD FUNCTION')\n",
    "    aeff = EffectiveAreaTable2D.read(filename, hdu='EFFECTIVE AREA')\n",
    "    edisp = EnergyDispersion2D.read(filename, hdu='ENERGY DISPERSION')\n",
    "    bkg = Background3D.read(filename, hdu='BACKGROUND')\n",
    "    return dict(psf=psf, aeff=aeff, edisp=edisp, bkg=bkg)\n",
    "\n",
    "irfs = get_irfs()"
   ]
  },
  {
   "cell_type": "code",
   "execution_count": 5,
   "metadata": {
    "collapsed": false
   },
   "outputs": [
    {
     "data": {
      "text/plain": [
       "'/home/puerck/Projects/python-tutorials/gammapy-extra/'"
      ]
     },
     "execution_count": 5,
     "metadata": {},
     "output_type": "execute_result"
    }
   ],
   "source": [
    "import os\n",
    "os.environ['GAMMAPY_EXTRA']"
   ]
  },
  {
   "cell_type": "code",
   "execution_count": 6,
   "metadata": {
    "collapsed": false
   },
   "outputs": [
    {
     "name": "stdout",
     "output_type": "stream",
     "text": [
      "SkyModel\n",
      "\n",
      "spatial_model = SkyGaussian\n",
      "\n",
      "Parameters: \n",
      "\n",
      "\t name   value   error unit min max frozen\n",
      "\t----- --------- ----- ---- --- --- ------\n",
      "\tlon_0 2.000e-01   nan  deg nan nan  False\n",
      "\tlat_0 1.000e-01   nan  deg nan nan  False\n",
      "\tsigma 5.000e-01   nan  deg nan nan  False\n",
      "\n",
      "spectral_model = PowerLaw\n",
      "\n",
      "Parameters: \n",
      "\n",
      "\t   name     value   error       unit      min max frozen\n",
      "\t--------- --------- ----- --------------- --- --- ------\n",
      "\t    index 3.000e+00   nan                 nan nan  False\n",
      "\tamplitude 1.000e-11   nan 1 / (cm2 s TeV) nan nan  False\n",
      "\treference 1.000e+00   nan             TeV nan nan   True\n",
      "\n"
     ]
    }
   ],
   "source": [
    "# Define sky model to simulate the data\n",
    "spatial_model = SkyGaussian(\n",
    "    lon_0='0.2 deg',\n",
    "    lat_0='0.1 deg',\n",
    "    sigma='0.5 deg',\n",
    ")\n",
    "spectral_model = PowerLaw(\n",
    "    index=3,\n",
    "    amplitude='1e-11 cm-2 s-1 TeV-1',\n",
    "    reference='1 TeV',\n",
    ")\n",
    "sky_model = SkyModel(\n",
    "    spatial_model=spatial_model,\n",
    "    spectral_model=spectral_model,\n",
    ")\n",
    "print(sky_model)"
   ]
  },
  {
   "cell_type": "code",
   "execution_count": 7,
   "metadata": {
    "collapsed": false
   },
   "outputs": [],
   "source": [
    "# Alternatively read the skymodel from an XML file\n",
    "xml = b'''<?xml version=\"1.0\" encoding=\"utf-8\"?>\n",
    "    <source_library title=\"source library\">\n",
    "        <source name=\"3C 273\" type=\"PointSource\">\n",
    "            <spectrum type=\"PowerLaw\">;i\n",
    "                <parameter free=\"1\" max=\"1000.0\" min=\"0.001\" name=\"Prefactor\" scale=\"1e-09\" value=\"10\"></parameter>\n",
    "                <parameter free=\"1\" max=\"-1.0\" min=\"-5.0\" name=\"Index\" scale=\"1.0\" value=\"-2.1\"></parameter>\n",
    "                <parameter free=\"0\" max=\"2000.0\" min=\"30.0\" name=\"Scale\" scale=\"1.0\" value=\"100.0\"></parameter>\n",
    "            </spectrum>\n",
    "            <spatialModel type=\"SkyDirFunction\">\n",
    "                <parameter free=\"0\" max=\"360\" min=\"-360\" name=\"RA\" scale=\"1.0\" value=\"187.25\"></parameter>\n",
    "                <parameter free=\"0\" max=\"90\" min=\"-90\" name=\"DEC\" scale=\"1.0\" value=\"2.17\"></parameter>\n",
    "            </spatialModel>\n",
    "        </source>\n",
    "    </source_library>\n",
    "    '''\n",
    "\n",
    "#source_library = SourceLibrary.from_xml(xml)\n",
    "#sky_model = source_library.skymodels[0]\n",
    "#print(sky_model)"
   ]
  },
  {
   "cell_type": "code",
   "execution_count": 8,
   "metadata": {
    "collapsed": true
   },
   "outputs": [],
   "source": [
    "# Define map geometry\n",
    "axis = MapAxis.from_edges(\n",
    "    np.logspace(-1., 1., 10), unit='TeV',\n",
    ")\n",
    "geom = WcsGeom.create(\n",
    "    skydir=(0, 0), binsz=0.02, width=(9, 5),\n",
    "    coordsys='GAL', axes=[axis],\n",
    ")"
   ]
  },
  {
   "cell_type": "code",
   "execution_count": 9,
   "metadata": {
    "collapsed": true
   },
   "outputs": [],
   "source": [
    "# Define some observation parameters\n",
    "# Here we just have a single observation,\n",
    "# we are not simulating many pointings / observations\n",
    "pointing = SkyCoord(1, 0.5, unit='deg', frame='galactic')\n",
    "livetime = 1 * u.hour\n",
    "offset_max = 2 * u.deg\n",
    "offset = Angle('2 deg')"
   ]
  },
  {
   "cell_type": "code",
   "execution_count": 10,
   "metadata": {
    "collapsed": false
   },
   "outputs": [
    {
     "name": "stderr",
     "output_type": "stream",
     "text": [
      "WARNING: AstropyDeprecationWarning: The truth value of a Quantity is ambiguous. In the future this will raise a ValueError. [astropy.units.quantity]\n",
      "/home/puerck/anaconda3/lib/python3.6/site-packages/astropy/units/quantity.py:1075: RuntimeWarning: invalid value encountered in true_divide\n",
      "  return super().__truediv__(other)\n"
     ]
    }
   ],
   "source": [
    "# Compute maps, PSF and EDISP - just as you would for analysis of real data\n",
    "\n",
    "# Exposure\n",
    "exposure_map = make_map_exposure_true_energy(\n",
    "    pointing=pointing, livetime=livetime, aeff=irfs['aeff'],\n",
    "    ref_geom=geom, offset_max=offset_max,\n",
    ")\n",
    "\n",
    "# PSF\n",
    "psf = irfs['psf'].to_energy_dependent_table_psf(theta=offset)\n",
    "psf_kernel = PSFKernel.from_table_psf(psf,\n",
    "                                      geom,\n",
    "                                      max_radius=1 * u.deg)\n",
    "\n",
    "# EDISP : TODO\n",
    "edisp = irfs['edisp'].to_energy_dispersion(offset=offset)\n",
    "\n",
    "# Background: Assume constant background in FoV\n",
    "bkg = Map.from_geom(geom)\n",
    "bkg.quantity = np.ones(bkg.data.shape) * 1e-1\n"
   ]
  },
  {
   "cell_type": "code",
   "execution_count": 11,
   "metadata": {
    "collapsed": false
   },
   "outputs": [
    {
     "data": {
      "text/plain": [
       "<matplotlib.image.AxesImage at 0x7fcd452ddef0>"
      ]
     },
     "execution_count": 11,
     "metadata": {},
     "output_type": "execute_result"
    },
    {
     "data": {
      "image/png": "[encoded data removed]",
      "text/plain": [
       "<matplotlib.figure.Figure at 0x7fcd5aae7f98>"
      ]
     },
     "metadata": {},
     "output_type": "display_data"
    }
   ],
   "source": [
    "plt.imshow(exposure_map.data[2,:,:])"
   ]
  },
  {
   "cell_type": "code",
   "execution_count": 12,
   "metadata": {
    "collapsed": false
   },
   "outputs": [
    {
     "data": {
      "text/plain": [
       "<matplotlib.image.AxesImage at 0x7fcd4523ef60>"
      ]
     },
     "execution_count": 12,
     "metadata": {},
     "output_type": "execute_result"
    },
    {
     "data": {
      "image/png": "[encoded data removed]",
      "text/plain": [
       "<matplotlib.figure.Figure at 0x7fcd453028d0>"
      ]
     },
     "metadata": {},
     "output_type": "display_data"
    }
   ],
   "source": [
    "plt.imshow(psf_kernel.psf_kernel_map.data[2,:,:])"
   ]
  },
  {
   "cell_type": "code",
   "execution_count": 13,
   "metadata": {
    "collapsed": false
   },
   "outputs": [],
   "source": [
    "# The idea is that we have this class that can compute `npred`\n",
    "# maps, i.e. \"predicted counts per pixel\" given the model and\n",
    "# the observation infos: exposure, background, PSF and EDISP\n",
    "evaluator = MapEvaluator(sky_model=sky_model, \n",
    "                         exposure=exposure_map,\n",
    "                         psf=psf_kernel,\n",
    "                         background=bkg)"
   ]
  },
  {
   "cell_type": "code",
   "execution_count": 14,
   "metadata": {
    "collapsed": false
   },
   "outputs": [],
   "source": [
    "# Accessing and saving a lot of the following maps is for debugging.\n",
    "# Just for a simulation one doesn't need to store all these things.\n",
    "#dnde = evaluator.compute_dnde()\n",
    "#flux = evaluator.compute_flux()\n",
    "\n",
    "npred = evaluator.compute_npred()\n",
    "npred_map = WcsNDMap(geom, npred)"
   ]
  },
  {
   "cell_type": "code",
   "execution_count": 15,
   "metadata": {
    "collapsed": false
   },
   "outputs": [
    {
     "data": {
      "text/plain": [
       "(<matplotlib.figure.Figure at 0x7fcd7c0d61d0>,\n",
       " <matplotlib.axes._subplots.WCSAxesSubplot at 0x7fcd45319b38>,\n",
       " <matplotlib.colorbar.Colorbar at 0x7fcd44e954a8>)"
      ]
     },
     "execution_count": 15,
     "metadata": {},
     "output_type": "execute_result"
    },
    {
     "data": {
      "image/png": "[encoded data removed]",
      "text/plain": [
       "<matplotlib.figure.Figure at 0x7fcd7c0d61d0>"
      ]
     },
     "metadata": {},
     "output_type": "display_data"
    }
   ],
   "source": [
    "npred_map.sum_over_axes().plot(add_cbar=True)\n"
   ]
  },
  {
   "cell_type": "code",
   "execution_count": 16,
   "metadata": {
    "collapsed": true
   },
   "outputs": [],
   "source": [
    "# The npred map contains negative values, this is probably a bug in the PSFKernel application\n",
    "npred[npred<0] = 0"
   ]
  },
  {
   "cell_type": "code",
   "execution_count": 17,
   "metadata": {
    "collapsed": true
   },
   "outputs": [],
   "source": [
    "# This one line is the core of how to simulate data when\n",
    "# using binned simulation / analysis: you Poisson fluctuate\n",
    "# npred to obtain simulated observed counts.\n",
    "# Compute counts as a Poisson fluctuation\n",
    "rng = get_random_state(42)\n",
    "counts = rng.poisson(npred)\n",
    "counts_map = WcsNDMap(geom, counts)"
   ]
  },
  {
   "cell_type": "code",
   "execution_count": 18,
   "metadata": {
    "collapsed": false
   },
   "outputs": [
    {
     "data": {
      "text/plain": [
       "(<matplotlib.figure.Figure at 0x7fcd4c109ac8>,\n",
       " <matplotlib.axes._subplots.WCSAxesSubplot at 0x7fcd44f3f710>,\n",
       " None)"
      ]
     },
     "execution_count": 18,
     "metadata": {},
     "output_type": "execute_result"
    },
    {
     "data": {
      "image/png": "[encoded data removed]",
      "text/plain": [
       "<matplotlib.figure.Figure at 0x7fcd4c109ac8>"
      ]
     },
     "metadata": {},
     "output_type": "display_data"
    }
   ],
   "source": [
    "counts_map.sum_over_axes().plot()"
   ]
  },
  {
   "cell_type": "markdown",
   "metadata": {},
   "source": [
    "## Fit\n",
    "\n",
    "Now let's analyse the simulated data.\n",
    "Here we just fit it again with the same model we had before, but you could do any analysis you like here, e.g. fit a different model, or do a region-based analysis, ..."
   ]
  },
  {
   "cell_type": "code",
   "execution_count": 19,
   "metadata": {
    "collapsed": true
   },
   "outputs": [],
   "source": [
    "# Define sky model to fit the data\n",
    "spatial_model = SkyGaussian(\n",
    "    lon_0='0 deg',\n",
    "    lat_0='0 deg',\n",
    "    sigma='1 deg',\n",
    ")\n",
    "spectral_model = PowerLaw(\n",
    "    index=2,\n",
    "    amplitude='1e-11 cm-2 s-1 TeV-1',\n",
    "    reference='1 TeV',\n",
    ")\n",
    "model = SkyModel(\n",
    "    spatial_model=spatial_model,\n",
    "    spectral_model=spectral_model,\n",
    ")\n",
    "\n",
    "model.parameters.set_parameter_errors({\n",
    "    'lon_0': '0.1 deg',\n",
    "    'lat_0': '0.1 deg',\n",
    "    'sigma': '0.1 deg',\n",
    "    'index': '0.1',\n",
    "    'amplitude': '1e-12 cm-2 s-1 TeV-1',\n",
    "})\n",
    "\n",
    "model.parameters['sigma'].parmin = 0"
   ]
  },
  {
   "cell_type": "code",
   "execution_count": 20,
   "metadata": {
    "collapsed": false
   },
   "outputs": [
    {
     "data": {
      "text/html": [
       "<hr>"
      ]
     },
     "metadata": {},
     "output_type": "display_data"
    },
    {
     "data": {
      "text/html": [
       "\n",
       "        <table>\n",
       "            <tr>\n",
       "                <td title=\"Minimum value of function\">FCN = 683761.8827849445</td>\n",
       "                <td title=\"Total number of call to FCN so far\">TOTAL NCALL = 217</td>\n",
       "                <td title=\"Number of call in last migrad\">NCALLS = 217</td>\n",
       "            </tr>\n",
       "            <tr>\n",
       "                <td title=\"Estimated distance to minimum\">EDM = 9.184083976820546e-05</td>\n",
       "                <td title=\"Maximum EDM definition of convergence\">GOAL EDM = 1e-05</td>\n",
       "                <td title=\"Error def. Amount of increase in FCN to be defined as 1 standard deviation\">\n",
       "                UP = 1.0</td>\n",
       "            </tr>\n",
       "        </table>\n",
       "        \n",
       "        <table>\n",
       "            <tr>\n",
       "                <td align=\"center\" title=\"Validity of the migrad call\">Valid</td>\n",
       "                <td align=\"center\" title=\"Validity of parameters\">Valid Param</td>\n",
       "                <td align=\"center\" title=\"Is Covariance matrix accurate?\">Accurate Covar</td>\n",
       "                <td align=\"center\" title=\"Positive definiteness of covariance matrix\">PosDef</td>\n",
       "                <td align=\"center\" title=\"Was covariance matrix made posdef by adding diagonal element\">Made PosDef</td>\n",
       "            </tr>\n",
       "            <tr>\n",
       "                <td align=\"center\" style=\"background-color:#92CCA6\">True</td>\n",
       "                <td align=\"center\" style=\"background-color:#92CCA6\">True</td>\n",
       "                <td align=\"center\" style=\"background-color:#92CCA6\">True</td>\n",
       "                <td align=\"center\" style=\"background-color:#92CCA6\">True</td>\n",
       "                <td align=\"center\" style=\"background-color:#92CCA6\">False</td>\n",
       "            </tr>\n",
       "            <tr>\n",
       "                <td align=\"center\" title=\"Was last hesse call fail?\">Hesse Fail</td>\n",
       "                <td align=\"center\" title=\"Validity of covariance\">HasCov</td>\n",
       "                <td align=\"center\" title=\"Is EDM above goal EDM?\">Above EDM</td>\n",
       "                <td align=\"center\"></td>\n",
       "                <td align=\"center\" title=\"Did last migrad call reach max call limit?\">Reach calllim</td>\n",
       "            </tr>\n",
       "            <tr>\n",
       "                <td align=\"center\" style=\"background-color:#92CCA6\">False</td>\n",
       "                <td align=\"center\" style=\"background-color:#92CCA6\">True</td>\n",
       "                <td align=\"center\" style=\"background-color:#92CCA6\">False</td>\n",
       "                <td align=\"center\"></td>\n",
       "                <td align=\"center\" style=\"background-color:#92CCA6\">False</td>\n",
       "            </tr>\n",
       "        </table>\n",
       "        "
      ]
     },
     "metadata": {},
     "output_type": "display_data"
    },
    {
     "data": {
      "text/html": [
       "\n",
       "        <table>\n",
       "            <tr>\n",
       "                <td><a href=\"#\" onclick=\"$('#frncLWicdI').toggle()\">+</a></td>\n",
       "                <td title=\"Variable name\">Name</td>\n",
       "                <td title=\"Value of parameter\">Value</td>\n",
       "                <td title=\"Parabolic error\">Parab Error</td>\n",
       "                <td title=\"Minos lower error\">Minos Error-</td>\n",
       "                <td title=\"Minos upper error\">Minos Error+</td>\n",
       "                <td title=\"Lower limit of the parameter\">Limit-</td>\n",
       "                <td title=\"Upper limit of the parameter\">Limit+</td>\n",
       "                <td title=\"Is the parameter fixed in the fit\">FIXED</td>\n",
       "            </tr>\n",
       "        \n",
       "            <tr>\n",
       "                <td>1</td>\n",
       "                <td>lon_0</td>\n",
       "                <td>0.188605</td>\n",
       "                <td>0.0141259</td>\n",
       "                <td>0</td>\n",
       "                <td>0</td>\n",
       "                <td></td>\n",
       "                <td></td>\n",
       "                <td></td>\n",
       "            </tr>\n",
       "            \n",
       "            <tr>\n",
       "                <td>2</td>\n",
       "                <td>lat_0</td>\n",
       "                <td>0.121134</td>\n",
       "                <td>0.0140181</td>\n",
       "                <td>0</td>\n",
       "                <td>0</td>\n",
       "                <td></td>\n",
       "                <td></td>\n",
       "                <td></td>\n",
       "            </tr>\n",
       "            \n",
       "            <tr>\n",
       "                <td>3</td>\n",
       "                <td>sigma</td>\n",
       "                <td>0.500789</td>\n",
       "                <td>0.00981391</td>\n",
       "                <td>0</td>\n",
       "                <td>0</td>\n",
       "                <td>0.0</td>\n",
       "                <td></td>\n",
       "                <td></td>\n",
       "            </tr>\n",
       "            \n",
       "            <tr>\n",
       "                <td>4</td>\n",
       "                <td>index</td>\n",
       "                <td>3.03874</td>\n",
       "                <td>0.0537097</td>\n",
       "                <td>0</td>\n",
       "                <td>0</td>\n",
       "                <td></td>\n",
       "                <td></td>\n",
       "                <td></td>\n",
       "            </tr>\n",
       "            \n",
       "            <tr>\n",
       "                <td>5</td>\n",
       "                <td>amplitude</td>\n",
       "                <td>9.65661e-12</td>\n",
       "                <td>9.2349e-13</td>\n",
       "                <td>0</td>\n",
       "                <td>0</td>\n",
       "                <td></td>\n",
       "                <td></td>\n",
       "                <td></td>\n",
       "            </tr>\n",
       "            \n",
       "            <tr>\n",
       "                <td>6</td>\n",
       "                <td>reference</td>\n",
       "                <td>1</td>\n",
       "                <td>0</td>\n",
       "                <td>0</td>\n",
       "                <td>0</td>\n",
       "                <td></td>\n",
       "                <td></td>\n",
       "                <td>FIXED</td>\n",
       "            </tr>\n",
       "            \n",
       "            </table>\n",
       "        \n",
       "            <pre id=\"frncLWicdI\" style=\"display:none;\">\n",
       "            <textarea rows=\"18\" cols=\"50\" onclick=\"this.select()\" readonly>\\begin{tabular}{|c|r|r|r|r|r|r|r|c|}\n",
       "\\hline\n",
       " & Name & Value & Para Error & Error+ & Error- & Limit+ & Limit- & FIXED\\\\\n",
       "\\hline\n",
       "1 & $lon_{0}$ & 1.886e-01 & 1.413e-02 &  &  &  &  & \\\\\n",
       "\\hline\n",
       "2 & $lat_{0}$ & 1.211e-01 & 1.402e-02 &  &  &  &  & \\\\\n",
       "\\hline\n",
       "3 & $\\sigma$ & 5.008e-01 & 9.814e-03 &  &  & 0.000e+00 & 0.000e+00 & \\\\\n",
       "\\hline\n",
       "4 & index & 3.039e+00 & 5.371e-02 &  &  &  &  & \\\\\n",
       "\\hline\n",
       "5 & amplitude & 9.657e-12 & 9.235e-13 &  &  &  &  & \\\\\n",
       "\\hline\n",
       "6 & reference & 1.000e+00 & 0.000e+00 &  &  &  &  & FIXED\\\\\n",
       "\\hline\n",
       "\\end{tabular}</textarea>\n",
       "            </pre>\n",
       "            "
      ]
     },
     "metadata": {},
     "output_type": "display_data"
    },
    {
     "data": {
      "text/html": [
       "<hr>"
      ]
     },
     "metadata": {},
     "output_type": "display_data"
    }
   ],
   "source": [
    "fit = MapFit(\n",
    "    model=model.copy(),\n",
    "    counts=counts_map,\n",
    "    exposure=exposure_map,\n",
    "    background=bkg\n",
    ")\n",
    "\n",
    "fit.fit()"
   ]
  },
  {
   "cell_type": "code",
   "execution_count": 21,
   "metadata": {
    "collapsed": false
   },
   "outputs": [
    {
     "name": "stdout",
     "output_type": "stream",
     "text": [
      "Start values:\n",
      "\n",
      "ParameterList\n",
      "Parameter(name='lon_0', value=0.0, unit='deg', min=nan, max=nan, frozen=False)\n",
      "Parameter(name='lat_0', value=0.0, unit='deg', min=nan, max=nan, frozen=False)\n",
      "Parameter(name='sigma', value=1.0, unit='deg', min=0, max=nan, frozen=False)\n",
      "Parameter(name='index', value=2, unit='', min=nan, max=nan, frozen=False)\n",
      "Parameter(name='amplitude', value=1e-11, unit='1 / (cm2 s TeV)', min=nan, max=nan, frozen=False)\n",
      "Parameter(name='reference', value=1.0, unit='TeV', min=nan, max=nan, frozen=True)\n",
      "\n",
      "Covariance: \n",
      "[[  1.00000000e-02   0.00000000e+00   0.00000000e+00   0.00000000e+00\n",
      "    0.00000000e+00   0.00000000e+00]\n",
      " [  0.00000000e+00   1.00000000e-02   0.00000000e+00   0.00000000e+00\n",
      "    0.00000000e+00   0.00000000e+00]\n",
      " [  0.00000000e+00   0.00000000e+00   1.00000000e-02   0.00000000e+00\n",
      "    0.00000000e+00   0.00000000e+00]\n",
      " [  0.00000000e+00   0.00000000e+00   0.00000000e+00   1.00000000e-02\n",
      "    0.00000000e+00   0.00000000e+00]\n",
      " [  0.00000000e+00   0.00000000e+00   0.00000000e+00   0.00000000e+00\n",
      "    1.00000000e-24   0.00000000e+00]\n",
      " [  0.00000000e+00   0.00000000e+00   0.00000000e+00   0.00000000e+00\n",
      "    0.00000000e+00   0.00000000e+00]]\n",
      "\n",
      "\n",
      "Fit result:\n",
      "\n",
      "ParameterList\n",
      "Parameter(name='lon_0', value=0.18860465168645782, unit='deg', min=nan, max=nan, frozen=False)\n",
      "Parameter(name='lat_0', value=0.1211340553127761, unit='deg', min=nan, max=nan, frozen=False)\n",
      "Parameter(name='sigma', value=0.5007885503934926, unit='deg', min=0, max=nan, frozen=False)\n",
      "Parameter(name='index', value=3.043954359207522, unit='', min=nan, max=nan, frozen=False)\n",
      "Parameter(name='amplitude', value=9.744442547457829e-12, unit='1 / (cm2 s TeV)', min=nan, max=nan, frozen=False)\n",
      "Parameter(name='reference', value=1.0, unit='TeV', min=nan, max=nan, frozen=True)\n",
      "\n",
      "Covariance: \n",
      "[[  1.00000000e-02   0.00000000e+00   0.00000000e+00   0.00000000e+00\n",
      "    0.00000000e+00   0.00000000e+00]\n",
      " [  0.00000000e+00   1.00000000e-02   0.00000000e+00   0.00000000e+00\n",
      "    0.00000000e+00   0.00000000e+00]\n",
      " [  0.00000000e+00   0.00000000e+00   1.00000000e-02   0.00000000e+00\n",
      "    0.00000000e+00   0.00000000e+00]\n",
      " [  0.00000000e+00   0.00000000e+00   0.00000000e+00   1.00000000e-02\n",
      "    0.00000000e+00   0.00000000e+00]\n",
      " [  0.00000000e+00   0.00000000e+00   0.00000000e+00   0.00000000e+00\n",
      "    1.00000000e-24   0.00000000e+00]\n",
      " [  0.00000000e+00   0.00000000e+00   0.00000000e+00   0.00000000e+00\n",
      "    0.00000000e+00   0.00000000e+00]]\n",
      "\n",
      "\n"
     ]
    }
   ],
   "source": [
    "print('Start values:\\n\\n{}\\n\\n'.format(model.parameters))\n",
    "print('Fit result:\\n\\n{}\\n\\n'.format(fit.model.parameters))\n",
    "\n",
    "# TODO: \n",
    "# print('True values\\n{}'.format(get_sky_model().parameters))"
   ]
  },
  {
   "cell_type": "code",
   "execution_count": 22,
   "metadata": {
    "collapsed": true
   },
   "outputs": [],
   "source": [
    "# TODO: show e.g. how to make a residual image"
   ]
  },
  {
   "cell_type": "markdown",
   "metadata": {},
   "source": [
    "## iminuit\n",
    "\n",
    "What we have done for now is to write a very thin wrapper for http://iminuit.readthedocs.io/\n",
    "as a fitting backend. This is just a prototype, we will improve this interface and\n",
    "add other fitting backends (e.g. Sherpa or scipy.optimize or emcee or ...)\n",
    "\n",
    "As a power-user, you can access ``fit.iminuit`` and get the full power of what is developed there already.\n",
    "E.g. the ``fit.fit()`` call ran ``Minuit.migrad()`` and ``Minuit.hesse()`` in the background, and you have\n",
    "access to e.g. the covariance matrix, or can check a likelihood profile, or can run ``Minuit.minos()``\n",
    "to compute asymmetric errors or ..."
   ]
  },
  {
   "cell_type": "code",
   "execution_count": 23,
   "metadata": {
    "collapsed": false
   },
   "outputs": [
    {
     "data": {
      "text/html": [
       "\n",
       "            <table>\n",
       "                <tr>\n",
       "                    <td><a onclick=\"$('#vobijkUXNg').toggle()\" href=\"#\">+</a></td>\n",
       "        \n",
       "            <td>\n",
       "            <div style=\"width:20px;position:relative; width: -moz-fit-content;\">\n",
       "            <div style=\"display:inline-block;-webkit-writing-mode:vertical-rl;-moz-writing-mode: vertical-rl;writing-mode: vertical-rl;\">\n",
       "            lon_0\n",
       "            </div>\n",
       "            </div>\n",
       "            </td>\n",
       "            \n",
       "            <td>\n",
       "            <div style=\"width:20px;position:relative; width: -moz-fit-content;\">\n",
       "            <div style=\"display:inline-block;-webkit-writing-mode:vertical-rl;-moz-writing-mode: vertical-rl;writing-mode: vertical-rl;\">\n",
       "            lat_0\n",
       "            </div>\n",
       "            </div>\n",
       "            </td>\n",
       "            \n",
       "            <td>\n",
       "            <div style=\"width:20px;position:relative; width: -moz-fit-content;\">\n",
       "            <div style=\"display:inline-block;-webkit-writing-mode:vertical-rl;-moz-writing-mode: vertical-rl;writing-mode: vertical-rl;\">\n",
       "            sigma\n",
       "            </div>\n",
       "            </div>\n",
       "            </td>\n",
       "            \n",
       "            <td>\n",
       "            <div style=\"width:20px;position:relative; width: -moz-fit-content;\">\n",
       "            <div style=\"display:inline-block;-webkit-writing-mode:vertical-rl;-moz-writing-mode: vertical-rl;writing-mode: vertical-rl;\">\n",
       "            index\n",
       "            </div>\n",
       "            </div>\n",
       "            </td>\n",
       "            \n",
       "            <td>\n",
       "            <div style=\"width:20px;position:relative; width: -moz-fit-content;\">\n",
       "            <div style=\"display:inline-block;-webkit-writing-mode:vertical-rl;-moz-writing-mode: vertical-rl;writing-mode: vertical-rl;\">\n",
       "            amplitude\n",
       "            </div>\n",
       "            </div>\n",
       "            </td>\n",
       "            \n",
       "                </tr>\n",
       "                \n",
       "            <tr>\n",
       "                <td>lon_0</td>\n",
       "            \n",
       "                <td style=\"background-color:rgb(255,117,117)\">\n",
       "                1.00\n",
       "                </td>\n",
       "                \n",
       "                <td style=\"background-color:rgb(164,252,185)\">\n",
       "                0.01\n",
       "                </td>\n",
       "                \n",
       "                <td style=\"background-color:rgb(171,243,180)\">\n",
       "                -0.08\n",
       "                </td>\n",
       "                \n",
       "                <td style=\"background-color:rgb(165,251,185)\">\n",
       "                0.02\n",
       "                </td>\n",
       "                \n",
       "                <td style=\"background-color:rgb(167,248,183)\">\n",
       "                -0.04\n",
       "                </td>\n",
       "                \n",
       "            </tr>\n",
       "            \n",
       "            <tr>\n",
       "                <td>lat_0</td>\n",
       "            \n",
       "                <td style=\"background-color:rgb(164,252,185)\">\n",
       "                0.01\n",
       "                </td>\n",
       "                \n",
       "                <td style=\"background-color:rgb(255,117,117)\">\n",
       "                1.00\n",
       "                </td>\n",
       "                \n",
       "                <td style=\"background-color:rgb(164,253,186)\">\n",
       "                -0.01\n",
       "                </td>\n",
       "                \n",
       "                <td style=\"background-color:rgb(164,252,185)\">\n",
       "                -0.02\n",
       "                </td>\n",
       "                \n",
       "                <td style=\"background-color:rgb(164,253,185)\">\n",
       "                0.01\n",
       "                </td>\n",
       "                \n",
       "            </tr>\n",
       "            \n",
       "            <tr>\n",
       "                <td>sigma</td>\n",
       "            \n",
       "                <td style=\"background-color:rgb(171,243,180)\">\n",
       "                -0.08\n",
       "                </td>\n",
       "                \n",
       "                <td style=\"background-color:rgb(164,253,186)\">\n",
       "                -0.01\n",
       "                </td>\n",
       "                \n",
       "                <td style=\"background-color:rgb(255,117,117)\">\n",
       "                1.00\n",
       "                </td>\n",
       "                \n",
       "                <td style=\"background-color:rgb(170,243,181)\">\n",
       "                -0.08\n",
       "                </td>\n",
       "                \n",
       "                <td style=\"background-color:rgb(183,224,171)\">\n",
       "                0.22\n",
       "                </td>\n",
       "                \n",
       "            </tr>\n",
       "            \n",
       "            <tr>\n",
       "                <td>index</td>\n",
       "            \n",
       "                <td style=\"background-color:rgb(165,251,185)\">\n",
       "                0.02\n",
       "                </td>\n",
       "                \n",
       "                <td style=\"background-color:rgb(164,252,185)\">\n",
       "                -0.02\n",
       "                </td>\n",
       "                \n",
       "                <td style=\"background-color:rgb(170,243,181)\">\n",
       "                -0.08\n",
       "                </td>\n",
       "                \n",
       "                <td style=\"background-color:rgb(255,117,117)\">\n",
       "                1.00\n",
       "                </td>\n",
       "                \n",
       "                <td style=\"background-color:rgb(251,122,120)\">\n",
       "                -0.96\n",
       "                </td>\n",
       "                \n",
       "            </tr>\n",
       "            \n",
       "            <tr>\n",
       "                <td>amplitude</td>\n",
       "            \n",
       "                <td style=\"background-color:rgb(167,248,183)\">\n",
       "                -0.04\n",
       "                </td>\n",
       "                \n",
       "                <td style=\"background-color:rgb(164,253,185)\">\n",
       "                0.01\n",
       "                </td>\n",
       "                \n",
       "                <td style=\"background-color:rgb(183,224,171)\">\n",
       "                0.22\n",
       "                </td>\n",
       "                \n",
       "                <td style=\"background-color:rgb(251,122,120)\">\n",
       "                -0.96\n",
       "                </td>\n",
       "                \n",
       "                <td style=\"background-color:rgb(255,117,117)\">\n",
       "                1.00\n",
       "                </td>\n",
       "                \n",
       "            </tr>\n",
       "            </table>\n",
       "\n",
       "            <pre id=\"vobijkUXNg\" style=\"display:none;\">\n",
       "            <textarea rows=\"19\" cols=\"50\" onclick=\"this.select()\" readonly>%\\usepackage[table]{xcolor} % include this for color\n",
       "%\\usepackage{rotating} % include this for rotate header\n",
       "%\\documentclass[xcolor=table]{beamer} % for beamer\n",
       "\\begin{tabular}{|c|c|c|c|c|c|}\n",
       "\\hline\n",
       "\\rotatebox{90}{} & \\rotatebox{90}{$lon_{0}$} & \\rotatebox{90}{$lat_{0}$} & \\rotatebox{90}{$\\sigma$} & \\rotatebox{90}{index} & \\rotatebox{90}{amplitude}\\\\\n",
       "\\hline\n",
       "$lon_{0}$ & \\cellcolor[RGB]{255,117,117} 1.00 & \\cellcolor[RGB]{164,252,185} 0.01 & \\cellcolor[RGB]{171,243,180} -0.08 & \\cellcolor[RGB]{165,251,185} 0.02 & \\cellcolor[RGB]{167,248,183} -0.04\\\\\n",
       "\\hline\n",
       "$lat_{0}$ & \\cellcolor[RGB]{164,252,185} 0.01 & \\cellcolor[RGB]{255,117,117} 1.00 & \\cellcolor[RGB]{164,253,186} -0.01 & \\cellcolor[RGB]{164,252,185} -0.02 & \\cellcolor[RGB]{164,253,185} 0.01\\\\\n",
       "\\hline\n",
       "$\\sigma$ & \\cellcolor[RGB]{171,243,180} -0.08 & \\cellcolor[RGB]{164,253,186} -0.01 & \\cellcolor[RGB]{255,117,117} 1.00 & \\cellcolor[RGB]{170,243,181} -0.08 & \\cellcolor[RGB]{183,224,171} 0.22\\\\\n",
       "\\hline\n",
       "index & \\cellcolor[RGB]{165,251,185} 0.02 & \\cellcolor[RGB]{164,252,185} -0.02 & \\cellcolor[RGB]{170,243,181} -0.08 & \\cellcolor[RGB]{255,117,117} 1.00 & \\cellcolor[RGB]{251,122,120} -0.96\\\\\n",
       "\\hline\n",
       "amplitude & \\cellcolor[RGB]{167,248,183} -0.04 & \\cellcolor[RGB]{164,253,185} 0.01 & \\cellcolor[RGB]{183,224,171} 0.22 & \\cellcolor[RGB]{251,122,120} -0.96 & \\cellcolor[RGB]{255,117,117} 1.00\\\\\n",
       "\\hline\n",
       "\\end{tabular}</textarea>\n",
       "            </pre>\n",
       "            "
      ]
     },
     "metadata": {},
     "output_type": "display_data"
    }
   ],
   "source": [
    "# Check correlation between model parameters\n",
    "# As expected in this simple case,\n",
    "# spatial parameters are uncorrelated,\n",
    "# but the spectral model amplitude and index are correlated as always\n",
    "fit.minuit.print_matrix()"
   ]
  },
  {
   "cell_type": "code",
   "execution_count": 24,
   "metadata": {
    "collapsed": false
   },
   "outputs": [
    {
     "data": {
      "image/png": "[encoded data removed]",
      "text/plain": [
       "<matplotlib.figure.Figure at 0x7fcd44e4a080>"
      ]
     },
     "metadata": {},
     "output_type": "display_data"
    }
   ],
   "source": [
    "# You can use likelihood profiles to check if your model is\n",
    "# well constrained or not, and if the fit really converged\n",
    "fit.minuit.draw_profile('sigma');"
   ]
  },
  {
   "cell_type": "code",
   "execution_count": null,
   "metadata": {
    "collapsed": true
   },
   "outputs": [],
   "source": []
  }
 ],
 "metadata": {
  "kernelspec": {
   "display_name": "Python 3",
   "language": "python",
   "name": "python3"
  },
  "language_info": {
   "codemirror_mode": {
    "name": "ipython",
    "version": 3
   },
   "file_extension": ".py",
   "mimetype": "text/x-python",
   "name": "python",
   "nbconvert_exporter": "python",
   "pygments_lexer": "ipython3",
   "version": "3.6.3"
  }
 },
 "nbformat": 4,
 "nbformat_minor": 2
}
