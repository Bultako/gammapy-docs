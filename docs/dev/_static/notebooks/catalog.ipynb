{
 "cells": [
  {
   "cell_type": "markdown",
   "metadata": {},
   "source": [
    "# Source catalogs\n",
    "\n",
    "**TODO: write me!**\n",
    "\n",
    "This is a hands-on tutorial introduction to `~gammapy.catalog`."
   ]
  },
  {
   "cell_type": "code",
   "execution_count": null,
   "metadata": {},
   "outputs": [],
   "source": [
    "%matplotlib inline\n",
    "import matplotlib.pyplot as plt"
   ]
  },
  {
   "cell_type": "code",
   "execution_count": null,
   "metadata": {},
   "outputs": [],
   "source": [
    "from gammapy.catalog import SOURCE_CATALOGS"
   ]
  },
  {
   "cell_type": "code",
   "execution_count": null,
   "metadata": {},
   "outputs": [],
   "source": [
    "SOURCE_CATALOGS"
   ]
  },
  {
   "cell_type": "code",
   "execution_count": null,
   "metadata": {},
   "outputs": [],
   "source": [
    "catalog = SOURCE_CATALOGS[\"3fgl\"]()\n",
    "source = catalog[\"3FGL J0349.9-2102\"]"
   ]
  },
  {
   "cell_type": "code",
   "execution_count": null,
   "metadata": {},
   "outputs": [],
   "source": [
    "# Example to show how to plot spectrum of Fermi/LAT sources.\n",
    "\n",
    "\n",
    "def plot_source_spectrum(source, label, color):\n",
    "    opts = dict(energy_power=2, flux_unit=\"erg-1 cm-2 s-1\")\n",
    "    spec = source.spectral_model()\n",
    "    spec.plot(\n",
    "        energy_range=source.energy_range, label=label, color=color, **opts\n",
    "    )\n",
    "    spec.plot_error(energy_range=source.energy_range, facecolor=color, **opts)\n",
    "    source.flux_points.to_sed_type(\"dnde\").plot(color=color, **opts)\n",
    "\n",
    "\n",
    "def plot_source_spectra(name):\n",
    "    plot_source_spectrum(\n",
    "        source=SOURCE_CATALOGS[\"3fgl\"]()[name], label=\"3FGL\", color=\"r\"\n",
    "    )\n",
    "    plot_source_spectrum(\n",
    "        source=SOURCE_CATALOGS[\"2fhl\"]()[name], label=\"2FHL\", color=\"g\"\n",
    "    )\n",
    "    plot_source_spectrum(\n",
    "        source=SOURCE_CATALOGS[\"3fhl\"]()[name], label=\"3FHL\", color=\"b\"\n",
    "    )\n",
    "\n",
    "    ax = plt.gca()\n",
    "    ax.set_ylim(1.0e-12, 7.0e-11)\n",
    "    ax.set_xlim(1.0e-4, 2.0)\n",
    "    ax.set_xlabel(\"Energy (TeV)\")\n",
    "    ax.set_ylabel(\"E^2 dN/dE (erg cm-2 s-1])\")\n",
    "    plt.legend(loc=0)\n",
    "\n",
    "\n",
    "# Select your favourite source\n",
    "# (must be named like this in ASSOC columns of all catalogs)\n",
    "name = \"PKS 2155-304\"\n",
    "plot_source_spectra(name)"
   ]
  },
  {
   "cell_type": "code",
   "execution_count": null,
   "metadata": {},
   "outputs": [],
   "source": [
    "lc = source.lightcurve\n",
    "lc.plot()"
   ]
  },
  {
   "cell_type": "code",
   "execution_count": null,
   "metadata": {},
   "outputs": [],
   "source": []
  }
 ],
 "metadata": {
  "kernelspec": {
   "display_name": "Python 3",
   "language": "python",
   "name": "python3"
  },
  "language_info": {
   "codemirror_mode": {
    "name": "ipython",
    "version": 3
   },
   "file_extension": ".py",
   "mimetype": "text/x-python",
   "name": "python",
   "nbconvert_exporter": "python",
   "pygments_lexer": "ipython3",
   "version": "3.7.0"
  }
 },
 "nbformat": 4,
 "nbformat_minor": 4
}
